{
 "cells": [
  {
   "cell_type": "code",
   "execution_count": 97,
   "id": "2a70d60b",
   "metadata": {},
   "outputs": [],
   "source": [
    "import requests\n",
    "import matplotlib.pyplot as plt\n",
    "import pandas as pd\n",
    "import json\n",
    "import geopandas as gpd\n",
    "import folium\n",
    "from shapely.geometry import Point\n",
    "from statsmodels.formula.api import glm\n",
    "import statsmodels.api as sm \n",
    "import numpy as np"
   ]
  },
  {
   "cell_type": "markdown",
   "id": "fed27150",
   "metadata": {},
   "source": [
    "1. A dataset containing details about Metro Nashville Police Department reported incidents is available at https://data.nashville.gov/Police/Metro-Nashville-Police-Department-Incidents/2u6v-ujjs. Make use of the API to find all aggravated burglary incidents that were reported during the six month period from January 1, 2021 through June 30, 2021."
   ]
  },
  {
   "cell_type": "code",
   "execution_count": 98,
   "id": "3f67234b",
   "metadata": {},
   "outputs": [],
   "source": [
    "endpoint = ('https://data.nashville.gov/resource/2u6v-ujjs.json?$limit=50000')\n",
    "parameters = {\n",
    "    '$where': 'incident_reported between \"2021-01-01T00:00:00\" and \"2021-06-30T23:59:59\"',\n",
    "    'offense_description' : \"BURGLARY- AGGRAVATED\"\n",
    "}\n",
    "response = requests.get(endpoint, params = parameters)"
   ]
  },
  {
   "cell_type": "code",
   "execution_count": 99,
   "id": "9f8ff41f",
   "metadata": {},
   "outputs": [],
   "source": [
    "burglaries = (pd.read_json(response.text)\n",
    "            .drop_duplicates(subset = \"incident_number\"))"
   ]
  },
  {
   "cell_type": "markdown",
   "id": "fb5f0dc9",
   "metadata": {},
   "source": [
    "2. Download the 2019 census tract shapefiles for Tennessee from https://www.census.gov/geographies/mapping-files/time-series/geo/tiger-line-file.2019.html. (The FIPS code for Tennessee is 47). Perform a spatial join to determine the census tract in which each burglary incident occurred. Which census tract had the highest number of burglaries? Warning - each incident can appear multiple times if there are multiple victims, so be sure that you aren't double-counting any incidents."
   ]
  },
  {
   "cell_type": "code",
   "execution_count": 100,
   "id": "929b71f8",
   "metadata": {},
   "outputs": [],
   "source": [
    "census_tracts = gpd.read_file(\"./tl_2019_47_tract/tl_2019_47_tract.shp\")"
   ]
  },
  {
   "cell_type": "code",
   "execution_count": 101,
   "id": "09970d3e",
   "metadata": {},
   "outputs": [],
   "source": [
    "burglaries['geometry'] = burglaries.apply(lambda x: Point((x.longitude,   #creating geometry column\n",
    "                                                       x.latitude)),\n",
    "                                      axis=1)\n",
    "\n",
    "geo_burglaries = gpd.GeoDataFrame(burglaries, \n",
    "                                crs = census_tracts.crs, \n",
    "                                geometry = burglaries['geometry'])"
   ]
  },
  {
   "cell_type": "code",
   "execution_count": 102,
   "id": "3773dcc2",
   "metadata": {},
   "outputs": [],
   "source": [
    "#clean up census and burglaries_geo\n",
    "\n",
    "census_tracts = census_tracts[['COUNTYFP','NAMELSAD', 'TRACTCE', 'geometry']]\n",
    "geo_burglaries = geo_burglaries[['incident_location','geometry']]"
   ]
  },
  {
   "cell_type": "code",
   "execution_count": 103,
   "id": "522c8c2a",
   "metadata": {},
   "outputs": [],
   "source": [
    "geo_burg_census = gpd.sjoin(geo_burglaries, census_tracts, op = 'within')"
   ]
  },
  {
   "cell_type": "code",
   "execution_count": 104,
   "id": "7af22de6",
   "metadata": {},
   "outputs": [
    {
     "data": {
      "text/plain": [
       "0    Census Tract 163\n",
       "dtype: object"
      ]
     },
     "execution_count": 104,
     "metadata": {},
     "output_type": "execute_result"
    }
   ],
   "source": [
    "geo_burg_census.NAMELSAD.mode() #Census Tract 163 had highest number of aggravated burglaries "
   ]
  }
 ],
 "metadata": {
  "kernelspec": {
   "display_name": "Python 3 (ipykernel)",
   "language": "python",
   "name": "python3"
  },
  "language_info": {
   "codemirror_mode": {
    "name": "ipython",
    "version": 3
   },
   "file_extension": ".py",
   "mimetype": "text/x-python",
   "name": "python",
   "nbconvert_exporter": "python",
   "pygments_lexer": "ipython3",
   "version": "3.8.5"
  }
 },
 "nbformat": 4,
 "nbformat_minor": 5
}
